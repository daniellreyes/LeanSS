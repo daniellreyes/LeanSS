{
 "cells": [
  {
   "cell_type": "code",
   "execution_count": 1,
   "metadata": {},
   "outputs": [],
   "source": [
    "import pandas as pd\n",
    "\n",
    "df=pd.read_csv('./Quality_cost.csv')"
   ]
  },
  {
   "cell_type": "markdown",
   "metadata": {},
   "source": [
    "#### Making analysis ####"
   ]
  },
  {
   "cell_type": "code",
   "execution_count": 3,
   "metadata": {},
   "outputs": [
    {
     "data": {
      "text/html": [
       "<div>\n",
       "<style scoped>\n",
       "    .dataframe tbody tr th:only-of-type {\n",
       "        vertical-align: middle;\n",
       "    }\n",
       "\n",
       "    .dataframe tbody tr th {\n",
       "        vertical-align: top;\n",
       "    }\n",
       "\n",
       "    .dataframe thead th {\n",
       "        text-align: right;\n",
       "    }\n",
       "</style>\n",
       "<table border=\"1\" class=\"dataframe\">\n",
       "  <thead>\n",
       "    <tr style=\"text-align: right;\">\n",
       "      <th></th>\n",
       "      <th>Day</th>\n",
       "      <th>Weeks</th>\n",
       "      <th>Shifts</th>\n",
       "      <th>Worked (hour)</th>\n",
       "      <th>Day to produce cassette</th>\n",
       "      <th>Poor quality in cassette</th>\n",
       "      <th>Raw material</th>\n",
       "      <th>Average cassette OoS</th>\n",
       "    </tr>\n",
       "  </thead>\n",
       "  <tbody>\n",
       "    <tr>\n",
       "      <th>0</th>\n",
       "      <td>Monday</td>\n",
       "      <td>52</td>\n",
       "      <td>2</td>\n",
       "      <td>8</td>\n",
       "      <td>Yes</td>\n",
       "      <td>5670</td>\n",
       "      <td>509.6</td>\n",
       "      <td>23</td>\n",
       "    </tr>\n",
       "    <tr>\n",
       "      <th>1</th>\n",
       "      <td>Tuesday</td>\n",
       "      <td>52</td>\n",
       "      <td>2</td>\n",
       "      <td>8</td>\n",
       "      <td>Yes</td>\n",
       "      <td>5670</td>\n",
       "      <td>509.6</td>\n",
       "      <td>23</td>\n",
       "    </tr>\n",
       "    <tr>\n",
       "      <th>2</th>\n",
       "      <td>Wednesday</td>\n",
       "      <td>52</td>\n",
       "      <td>2</td>\n",
       "      <td>8</td>\n",
       "      <td>No</td>\n",
       "      <td>5670</td>\n",
       "      <td>509.6</td>\n",
       "      <td>23</td>\n",
       "    </tr>\n",
       "    <tr>\n",
       "      <th>3</th>\n",
       "      <td>Thursday</td>\n",
       "      <td>52</td>\n",
       "      <td>2</td>\n",
       "      <td>8</td>\n",
       "      <td>Yes</td>\n",
       "      <td>5670</td>\n",
       "      <td>509.6</td>\n",
       "      <td>23</td>\n",
       "    </tr>\n",
       "    <tr>\n",
       "      <th>4</th>\n",
       "      <td>Friday</td>\n",
       "      <td>52</td>\n",
       "      <td>2</td>\n",
       "      <td>8</td>\n",
       "      <td>No</td>\n",
       "      <td>5670</td>\n",
       "      <td>509.6</td>\n",
       "      <td>23</td>\n",
       "    </tr>\n",
       "  </tbody>\n",
       "</table>\n",
       "</div>"
      ],
      "text/plain": [
       "         Day  Weeks  Shifts  Worked (hour) Day to produce cassette  \\\n",
       "0     Monday     52       2              8                     Yes   \n",
       "1    Tuesday     52       2              8                     Yes   \n",
       "2  Wednesday     52       2              8                      No   \n",
       "3   Thursday     52       2              8                     Yes   \n",
       "4     Friday     52       2              8                      No   \n",
       "\n",
       "   Poor quality in cassette  Raw material  Average cassette OoS  \n",
       "0                      5670         509.6                    23  \n",
       "1                      5670         509.6                    23  \n",
       "2                      5670         509.6                    23  \n",
       "3                      5670         509.6                    23  \n",
       "4                      5670         509.6                    23  "
      ]
     },
     "execution_count": 3,
     "metadata": {},
     "output_type": "execute_result"
    }
   ],
   "source": [
    "df.head()"
   ]
  },
  {
   "cell_type": "markdown",
   "metadata": {},
   "source": [
    "# Making Poor Quality Cost Analysis "
   ]
  },
  {
   "cell_type": "markdown",
   "metadata": {},
   "source": [
    "A review of the MEDISA company identified the costs associated with poor quality, which will only be considered in relation to non-compliance with specifications in the production of Polystyrene case.\n",
    "\n",
    "MEDISA works 2 shifts of 8 hours each from Monday to Friday and 2 shifts of 4 hours each on Saturdays. \n",
    "\n",
    "Mondays, Tuesdays and Thursdays are set aside for the Polystyrene case manufacturing process."
   ]
  },
  {
   "cell_type": "markdown",
   "metadata": {},
   "source": [
    "## Number of incidents occurring in a period of time\n"
   ]
  },
  {
   "cell_type": "markdown",
   "metadata": {},
   "source": [
    "### On average, there are 23 polystyrene cases per  day that do not comply with specifications"
   ]
  },
  {
   "cell_type": "code",
   "execution_count": 33,
   "metadata": {},
   "outputs": [],
   "source": [
    "incidents_per_day = 23\n",
    "polystyrene_days_worked_per_week = 3"
   ]
  },
  {
   "cell_type": "markdown",
   "metadata": {},
   "source": [
    "### Determinig the labor costs associated with the repair (rework)"
   ]
  },
  {
   "cell_type": "code",
   "execution_count": 34,
   "metadata": {},
   "outputs": [
    {
     "data": {
      "text/plain": [
       "'$521640.00'"
      ]
     },
     "execution_count": 34,
     "metadata": {},
     "output_type": "execute_result"
    }
   ],
   "source": [
    "# Calculating associates\n",
    "pre_expansion = 1\n",
    "molding = 1\n",
    "cutting = 2\n",
    "shipping = 0\n",
    "people_workin_in_area = pre_expansion + molding + cutting + shipping\n",
    "# Calculating work hours\n",
    "#worked_hours_per_day_weekdays = 8\n",
    "#shift_weekdays = 2\n",
    "#hours_worked_weekdays = worked_hours_per_day_weekdays * shift_weekdays\n",
    "# Labor cost per day\n",
    "labor_cost_per_day = 5670\n",
    "# (incidents per day) * (number of people that work in the area) * (worked hours per day) * (hourly rate of pay)\n",
    "\n",
    "labor_cost = incidents_per_day * people_workin_in_area * labor_cost_per_day\n",
    "\n",
    "labor_cost_money = \"${:.2f}\".format(labor_cost)\n",
    "labor_cost_money"
   ]
  },
  {
   "cell_type": "markdown",
   "metadata": {},
   "source": [
    "#### Cost of rework = $521,640.00"
   ]
  },
  {
   "cell_type": "markdown",
   "metadata": {},
   "source": [
    "### Determining the material costs associated with defects"
   ]
  },
  {
   "cell_type": "code",
   "execution_count": 35,
   "metadata": {},
   "outputs": [
    {
     "data": {
      "text/plain": [
       "'$11720.80'"
      ]
     },
     "execution_count": 35,
     "metadata": {},
     "output_type": "execute_result"
    }
   ],
   "source": [
    "raw_material_costs = 509.6\n",
    "material_costs_with_defects = incidents_per_day * raw_material_costs\n",
    "\n",
    "material_costs_with_defects_money = \"${:.2f}\".format(material_costs_with_defects)\n",
    "material_costs_with_defects_money"
   ]
  },
  {
   "cell_type": "markdown",
   "metadata": {},
   "source": [
    "#### Cost of material associated with defects = $11,720.80"
   ]
  },
  {
   "cell_type": "markdown",
   "metadata": {},
   "source": [
    "# Cost Poor Quality result - day"
   ]
  },
  {
   "cell_type": "code",
   "execution_count": 36,
   "metadata": {},
   "outputs": [
    {
     "data": {
      "text/plain": [
       "'$533360.80'"
      ]
     },
     "execution_count": 36,
     "metadata": {},
     "output_type": "execute_result"
    }
   ],
   "source": [
    "cost_poor_quality_day = labor_cost + material_costs_with_defects\n",
    "\n",
    "cost_poor_quality_day_money = \"${:.2f}\".format(cost_poor_quality_day)\n",
    "cost_poor_quality_day_money"
   ]
  },
  {
   "cell_type": "markdown",
   "metadata": {},
   "source": [
    "#### Cost of poor Quality per day = $533,360.80"
   ]
  },
  {
   "cell_type": "code",
   "execution_count": 38,
   "metadata": {},
   "outputs": [
    {
     "data": {
      "text/plain": [
       "'$83204284.80'"
      ]
     },
     "execution_count": 38,
     "metadata": {},
     "output_type": "execute_result"
    }
   ],
   "source": [
    "cost_poor_quality_year = cost_poor_quality_day * polystyrene_days_worked_per_week * 52\n",
    "\n",
    "cost_poor_quality_year_money = \"${:.2f}\".format(cost_poor_quality_year)\n",
    "cost_poor_quality_year_money"
   ]
  },
  {
   "cell_type": "markdown",
   "metadata": {},
   "source": [
    "#### Cost of poor Quality per year = $83,204,284.80"
   ]
  },
  {
   "cell_type": "markdown",
   "metadata": {},
   "source": [
    "# Beneficts of apply Lean Six Sigma project"
   ]
  },
  {
   "cell_type": "code",
   "execution_count": 42,
   "metadata": {},
   "outputs": [
    {
     "data": {
      "text/plain": [
       "'$16640856.96'"
      ]
     },
     "execution_count": 42,
     "metadata": {},
     "output_type": "execute_result"
    }
   ],
   "source": [
    "# The objective is to reduce at 80% of failures in manufacturing process of polystyrene cases\n",
    "beneficts = \"${:.2f}\".format(cost_poor_quality_year * 0.2)\n",
    "beneficts"
   ]
  },
  {
   "cell_type": "markdown",
   "metadata": {},
   "source": [
    "#### Cost of poor Quality per year = $16,640,856.96\n",
    "#### A savings of $16,640,856.96 per year will be realized by reducing variations in the process"
   ]
  }
 ],
 "metadata": {
  "kernelspec": {
   "display_name": "base",
   "language": "python",
   "name": "python3"
  },
  "language_info": {
   "codemirror_mode": {
    "name": "ipython",
    "version": 3
   },
   "file_extension": ".py",
   "mimetype": "text/x-python",
   "name": "python",
   "nbconvert_exporter": "python",
   "pygments_lexer": "ipython3",
   "version": "3.11.6"
  }
 },
 "nbformat": 4,
 "nbformat_minor": 2
}
