{
 "cells": [
  {
   "cell_type": "code",
   "execution_count": 43,
   "metadata": {},
   "outputs": [],
   "source": [
    "import pandas as pd\n",
    "import numpy as np"
   ]
  },
  {
   "cell_type": "code",
   "execution_count": 41,
   "metadata": {},
   "outputs": [],
   "source": [
    "# Cargar el archivo CSV en un DataFrame\n",
    "df_kano = pd.read_csv('./Kano_Model.csv', delimiter=';', header=None)\n",
    "# print(df)"
   ]
  },
  {
   "cell_type": "markdown",
   "metadata": {},
   "source": [
    "# Declaring Kano combinations"
   ]
  },
  {
   "cell_type": "code",
   "execution_count": null,
   "metadata": {},
   "outputs": [],
   "source": [
    "'''\n",
    "questionable_Q = 1 & 1\n",
    "attractive_A = (1 & 2) | (1 & 3) | (1 & 4)\n",
    "one_dimensional_O = 1 & 5\n",
    "indifferent_I = (2 & 2) | (2 & 3) | (2 & 4) | (3 & 2) | (3 & 3) | (3 & 4) | (4 & 2) | (4 & 3) | (4 & 4)\n",
    "opposite_R = (2 & 1) | (3 & 1) | (4 & 1) | (5 & 1) | (5 & 2) | (5 & 3) | (5 & 4) | (5 & 5) \n",
    "required_quality_M = (2 & 5) | (3 & 5) | (4 & 5) | (5 & 5) | (5 & 5)\n",
    "\n",
    "'''"
   ]
  },
  {
   "cell_type": "code",
   "execution_count": 48,
   "metadata": {},
   "outputs": [],
   "source": [
    "df_kano['Respuesta_Kano'] = np.nan\n",
    "# print(df_kano)\n",
    "\n"
   ]
  }
 ],
 "metadata": {
  "kernelspec": {
   "display_name": "base",
   "language": "python",
   "name": "python3"
  },
  "language_info": {
   "codemirror_mode": {
    "name": "ipython",
    "version": 3
   },
   "file_extension": ".py",
   "mimetype": "text/x-python",
   "name": "python",
   "nbconvert_exporter": "python",
   "pygments_lexer": "ipython3",
   "version": "3.11.5"
  }
 },
 "nbformat": 4,
 "nbformat_minor": 2
}
